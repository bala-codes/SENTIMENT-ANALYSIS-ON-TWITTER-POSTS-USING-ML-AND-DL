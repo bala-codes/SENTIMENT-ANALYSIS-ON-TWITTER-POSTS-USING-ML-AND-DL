{
  "nbformat": 4,
  "nbformat_minor": 0,
  "metadata": {
    "colab": {
      "name": "Part 2.1 - Sentiment Analysis - TWITTER TWEETS REVIEW CNN Networks and from Scratch.ipynb",
      "provenance": [],
      "collapsed_sections": [],
      "include_colab_link": true
    },
    "kernelspec": {
      "name": "python3",
      "display_name": "Python 3"
    },
    "accelerator": "GPU"
  },
  "cells": [
    {
      "cell_type": "markdown",
      "metadata": {
        "id": "view-in-github",
        "colab_type": "text"
      },
      "source": [
        "<a href=\"https://colab.research.google.com/github/bala-codes/SENTIMENT-ANALYSIS-ON-TWITTER-POSTS-USING-ML-AND-DL/blob/master/codes%20(DL)/Sentiment%20Analysis%20-%20TWITTER%20-%201-D%20CNN%20with%20Word%20Embeddings.ipynb\" target=\"_parent\"><img src=\"https://colab.research.google.com/assets/colab-badge.svg\" alt=\"Open In Colab\"/></a>"
      ]
    },
    {
      "cell_type": "code",
      "metadata": {
        "id": "Sr531Qmrvh1q",
        "colab_type": "code",
        "colab": {
          "base_uri": "https://localhost:8080/",
          "height": 125
        },
        "outputId": "81e95ba3-8331-441d-8ba3-2e72e8b9f089"
      },
      "source": [
        "from google.colab import drive\n",
        "drive.mount('/content/drive')"
      ],
      "execution_count": null,
      "outputs": [
        {
          "output_type": "stream",
          "text": [
            "Go to this URL in a browser: https://accounts.google.com/o/oauth2/auth?client_id=947318989803-6bn6qk8qdgf4n4g3pfee6491hc0brc4i.apps.googleusercontent.com&redirect_uri=urn%3aietf%3awg%3aoauth%3a2.0%3aoob&response_type=code&scope=email%20https%3a%2f%2fwww.googleapis.com%2fauth%2fdocs.test%20https%3a%2f%2fwww.googleapis.com%2fauth%2fdrive%20https%3a%2f%2fwww.googleapis.com%2fauth%2fdrive.photos.readonly%20https%3a%2f%2fwww.googleapis.com%2fauth%2fpeopleapi.readonly\n",
            "\n",
            "Enter your authorization code:\n",
            "··········\n",
            "Mounted at /content/drive\n"
          ],
          "name": "stdout"
        }
      ]
    },
    {
      "cell_type": "code",
      "metadata": {
        "id": "hQlE1Zne4ndT",
        "colab_type": "code",
        "colab": {
          "base_uri": "https://localhost:8080/",
          "height": 63
        },
        "outputId": "cfa099a6-06ba-4feb-ed89-d3ea2923405b"
      },
      "source": [
        "#Importing the libraries which are required.\n",
        "import pandas as pd\n",
        "import string\n",
        "import matplotlib.pyplot as plt\n",
        "%matplotlib inline\n",
        "import seaborn as sns\n",
        "import warnings\n",
        "warnings.filterwarnings(\"ignore\")\n",
        "import os\n",
        "os.environ['TF_CPP_MIN_LOG_LEVEL'] = '3' \n",
        "import tensorflow as tf\n",
        "try:\n",
        "    from tensorflow.python.util import module_wrapper as deprecation\n",
        "except ImportError:\n",
        "    from tensorflow.python.util import deprecation_wrapper as deprecation\n",
        "deprecation._PER_MODULE_WARNING_LIMIT = 0\n",
        "\n",
        "from tensorflow.python.util import deprecation\n",
        "deprecation._PRINT_DEPRECATION_WARNINGS = False"
      ],
      "execution_count": null,
      "outputs": [
        {
          "output_type": "display_data",
          "data": {
            "text/html": [
              "<p style=\"color: red;\">\n",
              "The default version of TensorFlow in Colab will soon switch to TensorFlow 2.x.<br>\n",
              "We recommend you <a href=\"https://www.tensorflow.org/guide/migrate\" target=\"_blank\">upgrade</a> now \n",
              "or ensure your notebook will continue to use TensorFlow 1.x via the <code>%tensorflow_version 1.x</code> magic:\n",
              "<a href=\"https://colab.research.google.com/notebooks/tensorflow_version.ipynb\" target=\"_blank\">more info</a>.</p>\n"
            ],
            "text/plain": [
              "<IPython.core.display.HTML object>"
            ]
          },
          "metadata": {
            "tags": []
          }
        }
      ]
    },
    {
      "cell_type": "code",
      "metadata": {
        "id": "OSLFLdsv4xAn",
        "colab_type": "code",
        "colab": {
          "base_uri": "https://localhost:8080/",
          "height": 197
        },
        "outputId": "751b659b-c2f4-446c-b0e7-4742a9192c0c"
      },
      "source": [
        "import pandas as pd\n",
        "\n",
        "final_df = pd.read_csv('/content/drive/My Drive/Machine Learning Projects/SENTIMENT ANALYSIS - TWITTER POSTS REVIEWS/SOURCE CODES AND DATASETS/TWITTER ANALYSIS - FINAL DATASETS/final_df_tweets_cleaned.csv',index_col = False)  # SAVE THE FINAL CLEANED COPY IF YOU WANT \n",
        "\n",
        "final_df = pd.DataFrame(final_df)\n",
        "final_df.head()"
      ],
      "execution_count": null,
      "outputs": [
        {
          "output_type": "execute_result",
          "data": {
            "text/html": [
              "<div>\n",
              "<style scoped>\n",
              "    .dataframe tbody tr th:only-of-type {\n",
              "        vertical-align: middle;\n",
              "    }\n",
              "\n",
              "    .dataframe tbody tr th {\n",
              "        vertical-align: top;\n",
              "    }\n",
              "\n",
              "    .dataframe thead th {\n",
              "        text-align: right;\n",
              "    }\n",
              "</style>\n",
              "<table border=\"1\" class=\"dataframe\">\n",
              "  <thead>\n",
              "    <tr style=\"text-align: right;\">\n",
              "      <th></th>\n",
              "      <th>label</th>\n",
              "      <th>text_cleaned</th>\n",
              "    </tr>\n",
              "  </thead>\n",
              "  <tbody>\n",
              "    <tr>\n",
              "      <th>0</th>\n",
              "      <td>0</td>\n",
              "      <td>awww bummer shoulda get david carr third day</td>\n",
              "    </tr>\n",
              "    <tr>\n",
              "      <th>1</th>\n",
              "      <td>0</td>\n",
              "      <td>upset cannot update facebook texting might cry...</td>\n",
              "    </tr>\n",
              "    <tr>\n",
              "      <th>2</th>\n",
              "      <td>0</td>\n",
              "      <td>dive many time ball manage save rest bound</td>\n",
              "    </tr>\n",
              "    <tr>\n",
              "      <th>3</th>\n",
              "      <td>0</td>\n",
              "      <td>whole body feel itchy like fire</td>\n",
              "    </tr>\n",
              "    <tr>\n",
              "      <th>4</th>\n",
              "      <td>0</td>\n",
              "      <td>behave mad cannot see</td>\n",
              "    </tr>\n",
              "  </tbody>\n",
              "</table>\n",
              "</div>"
            ],
            "text/plain": [
              "   label                                       text_cleaned\n",
              "0      0       awww bummer shoulda get david carr third day\n",
              "1      0  upset cannot update facebook texting might cry...\n",
              "2      0         dive many time ball manage save rest bound\n",
              "3      0                    whole body feel itchy like fire\n",
              "4      0                              behave mad cannot see"
            ]
          },
          "metadata": {
            "tags": []
          },
          "execution_count": 3
        }
      ]
    },
    {
      "cell_type": "code",
      "metadata": {
        "id": "vpq6E-GG93DW",
        "colab_type": "code",
        "colab": {
          "base_uri": "https://localhost:8080/",
          "height": 34
        },
        "outputId": "dc1d55b1-cb9c-4a45-a0be-49aade2d05f3"
      },
      "source": [
        "final_df.dropna(inplace=True)\n",
        "\n",
        "final_df.shape"
      ],
      "execution_count": null,
      "outputs": [
        {
          "output_type": "execute_result",
          "data": {
            "text/plain": [
              "(1572905, 2)"
            ]
          },
          "metadata": {
            "tags": []
          },
          "execution_count": 4
        }
      ]
    },
    {
      "cell_type": "code",
      "metadata": {
        "id": "P7CE1sJi40H9",
        "colab_type": "code",
        "colab": {}
      },
      "source": [
        "final_df['text_cleaned'] = final_df['text_cleaned'].astype(str)"
      ],
      "execution_count": null,
      "outputs": []
    },
    {
      "cell_type": "code",
      "metadata": {
        "id": "5scVC23iBSVj",
        "colab_type": "code",
        "colab": {
          "base_uri": "https://localhost:8080/",
          "height": 283
        },
        "outputId": "aebd30a5-83e8-458b-f5f9-3e487b15fabe"
      },
      "source": [
        "import seaborn as sns\n",
        "sns.heatmap(final_df.isnull(),yticklabels=False,cbar=False)"
      ],
      "execution_count": null,
      "outputs": [
        {
          "output_type": "execute_result",
          "data": {
            "text/plain": [
              "<matplotlib.axes._subplots.AxesSubplot at 0x7f816577a438>"
            ]
          },
          "metadata": {
            "tags": []
          },
          "execution_count": 6
        },
        {
          "output_type": "display_data",
          "data": {
            "image/png": "[encoded data removed]",
            "text/plain": [
              "<Figure size 432x288 with 1 Axes>"
            ]
          },
          "metadata": {
            "tags": []
          }
        }
      ]
    },
    {
      "cell_type": "code",
      "metadata": {
        "id": "eU4tIy4v45OF",
        "colab_type": "code",
        "colab": {
          "base_uri": "https://localhost:8080/",
          "height": 52
        },
        "outputId": "36f18fae-ec64-4e6c-a361-51f99ec6d0cc"
      },
      "source": [
        "from sklearn.model_selection import train_test_split\n",
        "\n",
        "sentences = final_df['text_cleaned'].values\n",
        "y = final_df['label'].values\n",
        "\n",
        "sentences_train, sentences_test, y_train, y_test = train_test_split(sentences, y, test_size=0.30, random_state=123)\n",
        "print(sentences_train.shape, sentences_test.shape)\n",
        "print(y_train.shape, y_test.shape)"
      ],
      "execution_count": null,
      "outputs": [
        {
          "output_type": "stream",
          "text": [
            "(1101033,) (471872,)\n",
            "(1101033,) (471872,)\n"
          ],
          "name": "stdout"
        }
      ]
    },
    {
      "cell_type": "markdown",
      "metadata": {
        "id": "3pVfq5e9oXwL",
        "colab_type": "text"
      },
      "source": [
        "# A Convolutional Neural Network"
      ]
    },
    {
      "cell_type": "code",
      "metadata": {
        "id": "t9u82M0RlASt",
        "colab_type": "code",
        "colab": {
          "base_uri": "https://localhost:8080/",
          "height": 34
        },
        "outputId": "1422f469-c6c2-47a7-d088-29f18ca96165"
      },
      "source": [
        "from keras.preprocessing.text import Tokenizer\n",
        "\n",
        "tokenizer = Tokenizer(num_words=20000, lower=True)\n",
        "tokenizer.fit_on_texts(sentences_train)\n",
        "\n",
        "X_train = tokenizer.texts_to_sequences(sentences_train)\n",
        "X_test = tokenizer.texts_to_sequences(sentences_test)\n",
        "\n",
        "vocab_size = len(tokenizer.word_index) + 1"
      ],
      "execution_count": null,
      "outputs": [
        {
          "output_type": "stream",
          "text": [
            "Using TensorFlow backend.\n"
          ],
          "name": "stderr"
        }
      ]
    },
    {
      "cell_type": "code",
      "metadata": {
        "id": "QiCzbNJG4qLS",
        "colab_type": "code",
        "colab": {}
      },
      "source": [
        "import pickle\n",
        "\n",
        "with open('/content/drive/My Drive/Machine Learning Projects/SENTIMENT ANALYSIS - TWITTER POSTS REVIEWS/SOURCE CODES AND DATASETS/PACKAGE 2 - SOURCE CODES AND FILES/Pretrained Models/tokenizer.pkl', 'wb') as handle:\n",
        "    pickle.dump(tokenizer, handle, protocol=pickle.HIGHEST_PROTOCOL)"
      ],
      "execution_count": null,
      "outputs": []
    },
    {
      "cell_type": "code",
      "metadata": {
        "id": "mfIb_q0qOxwB",
        "colab_type": "code",
        "colab": {
          "base_uri": "https://localhost:8080/",
          "height": 34
        },
        "outputId": "198dfb3a-2fbf-4994-b1e3-5637d6143052"
      },
      "source": [
        "X_train[0]"
      ],
      "execution_count": null,
      "outputs": [
        {
          "output_type": "execute_result",
          "data": {
            "text/plain": [
              "[74, 132, 320, 398, 706, 131, 129, 542]"
            ]
          },
          "metadata": {
            "tags": []
          },
          "execution_count": 10
        }
      ]
    },
    {
      "cell_type": "code",
      "metadata": {
        "id": "XLKPc0ifq9BV",
        "colab_type": "code",
        "colab": {}
      },
      "source": [
        "from keras.preprocessing.sequence import pad_sequences\n",
        "\n",
        "maxlen = 300 # 300 -> 400 for glove 300d \n",
        "\n",
        "X_train = pad_sequences(X_train, padding='post', maxlen=maxlen)\n",
        "X_test = pad_sequences(X_test, padding='post', maxlen=maxlen)"
      ],
      "execution_count": null,
      "outputs": []
    },
    {
      "cell_type": "code",
      "metadata": {
        "id": "MnlN-hmbrEod",
        "colab_type": "code",
        "colab": {
          "base_uri": "https://localhost:8080/",
          "height": 407
        },
        "outputId": "8971a4ff-b57a-403c-b6a2-eb299afe29a0"
      },
      "source": [
        "print(X_train[100])"
      ],
      "execution_count": null,
      "outputs": [
        {
          "output_type": "stream",
          "text": [
            "[ 369 2503 1292    0    0    0    0    0    0    0    0    0    0    0\n",
            "    0    0    0    0    0    0    0    0    0    0    0    0    0    0\n",
            "    0    0    0    0    0    0    0    0    0    0    0    0    0    0\n",
            "    0    0    0    0    0    0    0    0    0    0    0    0    0    0\n",
            "    0    0    0    0    0    0    0    0    0    0    0    0    0    0\n",
            "    0    0    0    0    0    0    0    0    0    0    0    0    0    0\n",
            "    0    0    0    0    0    0    0    0    0    0    0    0    0    0\n",
            "    0    0    0    0    0    0    0    0    0    0    0    0    0    0\n",
            "    0    0    0    0    0    0    0    0    0    0    0    0    0    0\n",
            "    0    0    0    0    0    0    0    0    0    0    0    0    0    0\n",
            "    0    0    0    0    0    0    0    0    0    0    0    0    0    0\n",
            "    0    0    0    0    0    0    0    0    0    0    0    0    0    0\n",
            "    0    0    0    0    0    0    0    0    0    0    0    0    0    0\n",
            "    0    0    0    0    0    0    0    0    0    0    0    0    0    0\n",
            "    0    0    0    0    0    0    0    0    0    0    0    0    0    0\n",
            "    0    0    0    0    0    0    0    0    0    0    0    0    0    0\n",
            "    0    0    0    0    0    0    0    0    0    0    0    0    0    0\n",
            "    0    0    0    0    0    0    0    0    0    0    0    0    0    0\n",
            "    0    0    0    0    0    0    0    0    0    0    0    0    0    0\n",
            "    0    0    0    0    0    0    0    0    0    0    0    0    0    0\n",
            "    0    0    0    0    0    0    0    0    0    0    0    0    0    0\n",
            "    0    0    0    0    0    0]\n"
          ],
          "name": "stdout"
        }
      ]
    },
    {
      "cell_type": "code",
      "metadata": {
        "id": "yTTWRKlERcEU",
        "colab_type": "code",
        "colab": {}
      },
      "source": [
        "import matplotlib.pyplot as plt\n",
        "plt.style.use('ggplot')\n",
        "\n",
        "def plot_history(history):\n",
        "    acc = history.history['acc']\n",
        "    val_acc = history.history['val_acc']\n",
        "    loss = history.history['loss']\n",
        "    val_loss = history.history['val_loss']\n",
        "    x = range(1, len(acc) + 1)\n",
        "    print(\"X\",x)\n",
        "\n",
        "    plt.figure(figsize=(12, 5))\n",
        "    plt.subplot(1, 2, 1)\n",
        "    plt.plot(x, acc, 'b', label='Training acc')\n",
        "    plt.plot(x, val_acc, 'r', label='Validation acc')\n",
        "    plt.title('Training and validation accuracy')\n",
        "    plt.legend()\n",
        "    plt.subplot(1, 2, 2)\n",
        "    plt.plot(x, loss, 'b', label='Training loss')\n",
        "    plt.plot(x, val_loss, 'r', label='Validation loss')\n",
        "    plt.title('Training and validation loss')\n",
        "    plt.legend()"
      ],
      "execution_count": null,
      "outputs": []
    },
    {
      "cell_type": "markdown",
      "metadata": {
        "id": "qUhTz92obI30",
        "colab_type": "text"
      },
      "source": [
        "# **TENSORFLOW MODEL BUILD FROM SCRATCH**"
      ]
    },
    {
      "cell_type": "code",
      "metadata": {
        "id": "8mc7W6j4bOWU",
        "colab_type": "code",
        "colab": {}
      },
      "source": [
        "def _get_last_layer_units_and_activation(num_classes):\n",
        "    \"\"\"Gets the # units and activation function for the last network layer.\n",
        "\n",
        "    # Arguments\n",
        "        num_classes: int, number of classes.\n",
        "\n",
        "    # Returns\n",
        "        units, activation values.\n",
        "    \"\"\"\n",
        "    if num_classes == 2:\n",
        "        activation = 'sigmoid'\n",
        "        units = 1\n",
        "    else:\n",
        "        activation = 'softmax'\n",
        "        units = num_classes\n",
        "    return units, activation"
      ],
      "execution_count": null,
      "outputs": []
    },
    {
      "cell_type": "markdown",
      "metadata": {
        "id": "w0RStrpGb0CR",
        "colab_type": "text"
      },
      "source": [
        "# **Build sequence model**"
      ]
    },
    {
      "cell_type": "code",
      "metadata": {
        "id": "zRl4b3N03OW7",
        "colab_type": "code",
        "colab": {}
      },
      "source": [
        "from tensorflow.python.keras import models\n",
        "from tensorflow.python.keras import initializers\n",
        "from tensorflow.python.keras import regularizers\n",
        "from tensorflow.python.keras.callbacks import *\n",
        "from tensorflow.python.keras.layers import Dense\n",
        "from tensorflow.python.keras.layers import Dropout\n",
        "from tensorflow.python.keras.layers import Embedding\n",
        "from tensorflow.python.keras.layers import Conv1D, SeparableConv1D\n",
        "from tensorflow.python.keras.layers import MaxPooling1D\n",
        "from tensorflow.python.keras.layers import GlobalAveragePooling1D\n",
        "import tensorflow as tf\n",
        "\n",
        "def sepcnn_model_arch2(blocks,filters,kernel_size,embedding_dim,dropout_rate,pool_size,input_shape,num_classes,num_features,\n",
        "                 use_pretrained_embedding=False,\n",
        "                 is_embedding_trainable=False,\n",
        "                 embedding_matrix=None):\n",
        "\n",
        "    op_units, op_activation = _get_last_layer_units_and_activation(num_classes)\n",
        "    model = models.Sequential()\n",
        "\n",
        "    # Add embedding layer. If pre-trained embedding is used add weights to the\n",
        "    # embeddings layer and set trainable to input is_embedding_trainable flag.\n",
        "    if use_pretrained_embedding:\n",
        "        model.add(Embedding(input_dim=num_features,\n",
        "                            output_dim=embedding_dim,\n",
        "                            input_length=input_shape,\n",
        "                            weights=[embedding_matrix],\n",
        "                            trainable=is_embedding_trainable))\n",
        "    else:\n",
        "        model.add(Embedding(input_dim=num_features,\n",
        "                            output_dim=embedding_dim,\n",
        "                            input_length=input_shape))\n",
        "\n",
        "    for _ in range(blocks-1):\n",
        "        model.add(Dropout(rate=dropout_rate))\n",
        "        model.add(Conv1D(filters=filters,                                 \n",
        "                                  kernel_size=kernel_size,\n",
        "                                  activation='relu',\n",
        "                                  bias_initializer='random_uniform',\n",
        "                                  #depthwise_initializer='random_uniform',\n",
        "                                  padding='same'))\n",
        "        model.add(Conv1D(filters=filters,\n",
        "                                  kernel_size=kernel_size,\n",
        "                                  activation='relu',\n",
        "                                  bias_initializer='random_uniform',\n",
        "                                  #depthwise_initializer='random_uniform',\n",
        "                                  padding='same'))\n",
        "        model.add(MaxPooling1D(pool_size=pool_size))\n",
        "        model.add(Dropout(rate=dropout_rate)) #\n",
        "        \n",
        "        #######################################################################\n",
        "\n",
        "        model.add(Conv1D(filters=filters * 2,                                   \n",
        "                                  kernel_size=kernel_size,\n",
        "                                  activation='relu',\n",
        "                                  bias_initializer='random_uniform',\n",
        "                                  padding='same'))\n",
        "        \n",
        "        model.add(Conv1D(filters=filters * 2,\n",
        "                                  kernel_size=kernel_size,\n",
        "                                  activation='relu',\n",
        "                                  bias_initializer='random_uniform',\n",
        "                                  padding='same'))\n",
        "        model.add(MaxPooling1D(pool_size=pool_size))\n",
        "        model.add(Dropout(rate=dropout_rate)) \n",
        "\n",
        "        ########################################################################\n",
        "\n",
        "        model.add(Conv1D(filters=filters * 3,                                   \n",
        "                                  kernel_size=kernel_size,\n",
        "                                  activation='relu',\n",
        "                                  bias_initializer='random_uniform',\n",
        "                                  padding='same'))\n",
        "        model.add(Conv1D(filters=filters * 3,\n",
        "                                  kernel_size=kernel_size,\n",
        "                                  activation='relu',\n",
        "                                  bias_initializer='random_uniform',\n",
        "                                  padding='same'))\n",
        "        model.add(MaxPooling1D(pool_size=pool_size))\n",
        "        model.add(Dropout(rate=dropout_rate)) \n",
        "\n",
        "        ########################################################################\n",
        "\n",
        "\n",
        "    model.add(Conv1D(filters= filters*4,\n",
        "                              kernel_size=kernel_size,\n",
        "                              activation='relu',\n",
        "                              bias_initializer='random_uniform',\n",
        "                              padding='same'))\n",
        "    \n",
        "    model.add(Conv1D(filters=filters*4,\n",
        "                              kernel_size=kernel_size,\n",
        "                              activation='relu',\n",
        "                              bias_initializer='random_uniform',\n",
        "                              padding='same'))  \n",
        "    \n",
        "    model.add(GlobalAveragePooling1D())\n",
        "    model.add(Dropout(rate=dropout_rate))\n",
        "    model.add(Dense(256, activation=\"relu\")) # 256 -> 512\n",
        "    model.add(Dropout(rate=dropout_rate))\n",
        "    model.add(Dense(32, activation=\"relu\"))\n",
        "    model.add(Dropout(rate=dropout_rate))\n",
        "    model.add(Dense(op_units, activation=op_activation))\n",
        "    \n",
        "    if num_classes == 2:\n",
        "        loss = 'binary_crossentropy'\n",
        "    else:\n",
        "        loss = 'sparse_categorical_crossentropy'\n",
        "    optimizer = tf.keras.optimizers.Adam() # lr=1e-3\n",
        "    model.compile(optimizer=optimizer, loss=loss, metrics=['acc'])\n",
        "    tf.keras.utils.plot_model(model,to_file='/content/model2.png',show_shapes=True,show_layer_names=True,rankdir='TB',expand_nested=False,dpi=96)\n",
        "    return model"
      ],
      "execution_count": null,
      "outputs": []
    },
    {
      "cell_type": "markdown",
      "metadata": {
        "id": "YfX2YS-4c11k",
        "colab_type": "text"
      },
      "source": [
        "#sepcnn_model(blocks,filters,kernel_size,embedding_dim,\n",
        "#             dropout_rate,pool_size,input_shape,num_classes,\n",
        "#                 num_features,use_pretrained_embedding=False,\n",
        "#                 is_embedding_trainable=False,embedding_matrix=None)"
      ]
    },
    {
      "cell_type": "markdown",
      "metadata": {
        "id": "YUvOYCHsWnSW",
        "colab_type": "text"
      },
      "source": [
        "# Model trained for different kernel_size and their corresponding Accuracy rates\n",
        "\n",
        "Kernel_size = 1 \n",
        "1. Training Accuracy: 0. for kernel size of 1\n",
        "2. Testing Accuracy:  0. for kernel size of 1\n",
        "\n",
        "Kernel_size = 2\n",
        "1. Training Accuracy: 0. for kernel size of 2\n",
        "2. Testing Accuracy:  0. for kernel size of 2\n",
        "\n",
        "Kernel_size = 3\n",
        "1. Training Accuracy: 0. for kernel size of 3\n",
        "2. Testing Accuracy:  0. for kernel size of 3\n",
        "\n",
        "Kernel_size = 4\n",
        "1. Training Accuracy: 0. for kernel size of 4\n",
        "2. Testing Accuracy:  0. for kernel size of 4\n",
        "\n",
        "Kernel_size = 5\n",
        "1. Training Accuracy: 0. for kernel size of 5\n",
        "2. Testing Accuracy:  0. for kernel size of 5\n"
      ]
    },
    {
      "cell_type": "code",
      "metadata": {
        "id": "SyCsuXVwITg-",
        "colab_type": "code",
        "colab": {
          "base_uri": "https://localhost:8080/",
          "height": 976
        },
        "outputId": "faa4e1c9-855e-4976-86cb-2317810a24c4"
      },
      "source": [
        "# change kernel_size = 4 , 3 , 5\n",
        "mymodelarch2 = sepcnn_model_arch2(blocks = 2, filters = 32 , kernel_size = 5 ,embedding_dim = 100 , dropout_rate = 0.5 , pool_size = 2, input_shape = maxlen ,num_classes = 2, num_features = vocab_size,use_pretrained_embedding=False,is_embedding_trainable=True,embedding_matrix=None)\n",
        "mymodelarch2.summary()"
      ],
      "execution_count": null,
      "outputs": [
        {
          "output_type": "stream",
          "text": [
            "Model: \"sequential_5\"\n",
            "_________________________________________________________________\n",
            "Layer (type)                 Output Shape              Param #   \n",
            "=================================================================\n",
            "embedding_5 (Embedding)      (None, 300, 100)          6621600   \n",
            "_________________________________________________________________\n",
            "dropout_35 (Dropout)         (None, 300, 100)          0         \n",
            "_________________________________________________________________\n",
            "conv1d_40 (Conv1D)           (None, 300, 32)           16032     \n",
            "_________________________________________________________________\n",
            "conv1d_41 (Conv1D)           (None, 300, 32)           5152      \n",
            "_________________________________________________________________\n",
            "max_pooling1d_15 (MaxPooling (None, 150, 32)           0         \n",
            "_________________________________________________________________\n",
            "dropout_36 (Dropout)         (None, 150, 32)           0         \n",
            "_________________________________________________________________\n",
            "conv1d_42 (Conv1D)           (None, 150, 64)           10304     \n",
            "_________________________________________________________________\n",
            "conv1d_43 (Conv1D)           (None, 150, 64)           20544     \n",
            "_________________________________________________________________\n",
            "max_pooling1d_16 (MaxPooling (None, 75, 64)            0         \n",
            "_________________________________________________________________\n",
            "dropout_37 (Dropout)         (None, 75, 64)            0         \n",
            "_________________________________________________________________\n",
            "conv1d_44 (Conv1D)           (None, 75, 96)            30816     \n",
            "_________________________________________________________________\n",
            "conv1d_45 (Conv1D)           (None, 75, 96)            46176     \n",
            "_________________________________________________________________\n",
            "max_pooling1d_17 (MaxPooling (None, 37, 96)            0         \n",
            "_________________________________________________________________\n",
            "dropout_38 (Dropout)         (None, 37, 96)            0         \n",
            "_________________________________________________________________\n",
            "conv1d_46 (Conv1D)           (None, 37, 128)           61568     \n",
            "_________________________________________________________________\n",
            "conv1d_47 (Conv1D)           (None, 37, 128)           82048     \n",
            "_________________________________________________________________\n",
            "global_average_pooling1d_5 ( (None, 128)               0         \n",
            "_________________________________________________________________\n",
            "dropout_39 (Dropout)         (None, 128)               0         \n",
            "_________________________________________________________________\n",
            "dense_15 (Dense)             (None, 256)               33024     \n",
            "_________________________________________________________________\n",
            "dropout_40 (Dropout)         (None, 256)               0         \n",
            "_________________________________________________________________\n",
            "dense_16 (Dense)             (None, 32)                8224      \n",
            "_________________________________________________________________\n",
            "dropout_41 (Dropout)         (None, 32)                0         \n",
            "_________________________________________________________________\n",
            "dense_17 (Dense)             (None, 1)                 33        \n",
            "=================================================================\n",
            "Total params: 6,935,521\n",
            "Trainable params: 6,935,521\n",
            "Non-trainable params: 0\n",
            "_________________________________________________________________\n"
          ],
          "name": "stdout"
        }
      ]
    },
    {
      "cell_type": "code",
      "metadata": {
        "id": "dtkVDNUQfR8P",
        "colab_type": "code",
        "colab": {
          "base_uri": "https://localhost:8080/",
          "height": 1000
        },
        "outputId": "87388290-a14a-4f0d-d492-820fcf243973"
      },
      "source": [
        "%%time\n",
        "mc = ModelCheckpoint('/content/SA_Conv_k5.h5', monitor='val_acc', verbose=1, save_best_only=True, mode='max')\n",
        "\n",
        "# es = EarlyStopping(monitor='val_loss', patience=4)\n",
        "# red_lr= ReduceLROnPlateau(monitor='val_loss',patience=2,verbose=2,factor=0.001,min_delta=0.01)\n",
        "\n",
        "history = mymodelarch2.fit(X_train, y_train,epochs=30,verbose=2,validation_data=(X_test, y_test),callbacks=[mc])"
      ],
      "execution_count": null,
      "outputs": [
        {
          "output_type": "stream",
          "text": [
            "Train on 278770 samples, validate on 119474 samples\n",
            "Epoch 1/30\n",
            "\n",
            "Epoch 00001: val_acc improved from -inf to 0.87870, saving model to /content/SA_Conv_k5.h5\n",
            "278770/278770 - 88s - loss: 0.5350 - acc: 0.6762 - val_loss: 0.3271 - val_acc: 0.8787\n",
            "Epoch 2/30\n",
            "\n",
            "Epoch 00002: val_acc did not improve from 0.87870\n",
            "278770/278770 - 85s - loss: 0.3080 - acc: 0.8818 - val_loss: 0.3590 - val_acc: 0.8584\n",
            "Epoch 3/30\n",
            "\n",
            "Epoch 00003: val_acc improved from 0.87870 to 0.88344, saving model to /content/SA_Conv_k5.h5\n",
            "278770/278770 - 85s - loss: 0.2827 - acc: 0.8931 - val_loss: 0.3028 - val_acc: 0.8834\n",
            "Epoch 4/30\n",
            "\n",
            "Epoch 00004: val_acc improved from 0.88344 to 0.88733, saving model to /content/SA_Conv_k5.h5\n",
            "278770/278770 - 85s - loss: 0.2705 - acc: 0.8994 - val_loss: 0.2924 - val_acc: 0.8873\n",
            "Epoch 5/30\n",
            "\n",
            "Epoch 00005: val_acc did not improve from 0.88733\n",
            "278770/278770 - 85s - loss: 0.2632 - acc: 0.9033 - val_loss: 0.3083 - val_acc: 0.8849\n",
            "Epoch 6/30\n",
            "\n",
            "Epoch 00006: val_acc did not improve from 0.88733\n",
            "278770/278770 - 85s - loss: 0.2549 - acc: 0.9062 - val_loss: 0.2972 - val_acc: 0.8867\n",
            "Epoch 7/30\n",
            "\n",
            "Epoch 00007: val_acc did not improve from 0.88733\n",
            "278770/278770 - 85s - loss: 0.2570 - acc: 0.9094 - val_loss: 0.3313 - val_acc: 0.8655\n",
            "Epoch 8/30\n",
            "\n",
            "Epoch 00008: val_acc improved from 0.88733 to 0.88789, saving model to /content/SA_Conv_k5.h5\n",
            "278770/278770 - 85s - loss: 0.2439 - acc: 0.9109 - val_loss: 0.3063 - val_acc: 0.8879\n",
            "Epoch 9/30\n",
            "\n",
            "Epoch 00009: val_acc did not improve from 0.88789\n",
            "278770/278770 - 85s - loss: 0.2409 - acc: 0.9134 - val_loss: 0.2906 - val_acc: 0.8864\n",
            "Epoch 10/30\n",
            "\n",
            "Epoch 00010: val_acc did not improve from 0.88789\n",
            "278770/278770 - 84s - loss: 0.2361 - acc: 0.9152 - val_loss: 0.3022 - val_acc: 0.8844\n",
            "Epoch 11/30\n",
            "\n",
            "Epoch 00011: val_acc did not improve from 0.88789\n",
            "278770/278770 - 85s - loss: 0.2344 - acc: 0.9162 - val_loss: 0.3696 - val_acc: 0.8542\n",
            "Epoch 12/30\n",
            "\n",
            "Epoch 00012: val_acc improved from 0.88789 to 0.88857, saving model to /content/SA_Conv_k5.h5\n",
            "278770/278770 - 85s - loss: 0.5280 - acc: 0.9170 - val_loss: 0.3064 - val_acc: 0.8886\n",
            "Epoch 13/30\n",
            "\n",
            "Epoch 00013: val_acc did not improve from 0.88857\n",
            "278770/278770 - 85s - loss: 0.6012 - acc: 0.9131 - val_loss: 0.3377 - val_acc: 0.8740\n",
            "Epoch 14/30\n",
            "\n",
            "Epoch 00014: val_acc did not improve from 0.88857\n",
            "278770/278770 - 85s - loss: 0.2299 - acc: 0.9191 - val_loss: 0.3258 - val_acc: 0.8687\n",
            "Epoch 15/30\n",
            "\n",
            "Epoch 00015: val_acc did not improve from 0.88857\n",
            "278770/278770 - 85s - loss: 0.2284 - acc: 0.9197 - val_loss: 0.3172 - val_acc: 0.8774\n",
            "Epoch 16/30\n",
            "\n",
            "Epoch 00016: val_acc did not improve from 0.88857\n",
            "278770/278770 - 85s - loss: 0.2334 - acc: 0.9189 - val_loss: 0.3275 - val_acc: 0.8837\n",
            "Epoch 17/30\n",
            "\n",
            "Epoch 00017: val_acc did not improve from 0.88857\n",
            "278770/278770 - 84s - loss: 0.2199 - acc: 0.9207 - val_loss: 0.3338 - val_acc: 0.8714\n",
            "Epoch 18/30\n",
            "\n",
            "Epoch 00018: val_acc did not improve from 0.88857\n",
            "278770/278770 - 85s - loss: 0.2205 - acc: 0.9224 - val_loss: 0.3191 - val_acc: 0.8749\n",
            "Epoch 19/30\n",
            "\n",
            "Epoch 00019: val_acc did not improve from 0.88857\n",
            "278770/278770 - 84s - loss: 0.2227 - acc: 0.9223 - val_loss: 0.3405 - val_acc: 0.8736\n",
            "Epoch 20/30\n",
            "\n",
            "Epoch 00020: val_acc did not improve from 0.88857\n",
            "278770/278770 - 85s - loss: 0.2245 - acc: 0.9216 - val_loss: 0.3442 - val_acc: 0.8713\n",
            "Epoch 21/30\n",
            "\n",
            "Epoch 00021: val_acc did not improve from 0.88857\n",
            "278770/278770 - 84s - loss: 0.2174 - acc: 0.9211 - val_loss: 0.3267 - val_acc: 0.8763\n",
            "Epoch 22/30\n",
            "\n",
            "Epoch 00022: val_acc did not improve from 0.88857\n",
            "278770/278770 - 85s - loss: 0.2155 - acc: 0.9223 - val_loss: 0.3426 - val_acc: 0.8767\n",
            "Epoch 23/30\n",
            "\n",
            "Epoch 00023: val_acc did not improve from 0.88857\n",
            "278770/278770 - 84s - loss: 0.2901 - acc: 0.9242 - val_loss: 0.3161 - val_acc: 0.8826\n",
            "Epoch 24/30\n",
            "\n",
            "Epoch 00024: val_acc did not improve from 0.88857\n",
            "278770/278770 - 85s - loss: 0.4155 - acc: 0.9191 - val_loss: 0.3671 - val_acc: 0.8723\n",
            "Epoch 25/30\n",
            "\n",
            "Epoch 00025: val_acc did not improve from 0.88857\n",
            "278770/278770 - 84s - loss: 0.2156 - acc: 0.9231 - val_loss: 0.3118 - val_acc: 0.8853\n",
            "Epoch 26/30\n",
            "\n",
            "Epoch 00026: val_acc did not improve from 0.88857\n",
            "278770/278770 - 84s - loss: 0.2140 - acc: 0.9228 - val_loss: 0.3112 - val_acc: 0.8809\n",
            "Epoch 27/30\n",
            "\n",
            "Epoch 00027: val_acc did not improve from 0.88857\n",
            "278770/278770 - 85s - loss: 0.4944 - acc: 0.9223 - val_loss: 0.3266 - val_acc: 0.8782\n",
            "Epoch 28/30\n",
            "\n",
            "Epoch 00028: val_acc did not improve from 0.88857\n",
            "278770/278770 - 84s - loss: 0.2096 - acc: 0.9247 - val_loss: 0.3236 - val_acc: 0.8777\n",
            "Epoch 29/30\n",
            "\n",
            "Epoch 00029: val_acc did not improve from 0.88857\n",
            "278770/278770 - 85s - loss: 0.2292 - acc: 0.9236 - val_loss: 0.3390 - val_acc: 0.8811\n",
            "Epoch 30/30\n",
            "\n",
            "Epoch 00030: val_acc did not improve from 0.88857\n",
            "278770/278770 - 84s - loss: 0.2157 - acc: 0.9245 - val_loss: 0.3584 - val_acc: 0.8783\n",
            "CPU times: user 47min 41s, sys: 5min 9s, total: 52min 51s\n",
            "Wall time: 42min 24s\n"
          ],
          "name": "stdout"
        }
      ]
    },
    {
      "cell_type": "code",
      "metadata": {
        "id": "WfKUwrvHOqpF",
        "colab_type": "code",
        "colab": {
          "base_uri": "https://localhost:8080/",
          "height": 390
        },
        "outputId": "c6d95ebf-02f9-451c-fe28-f374aa0d1467"
      },
      "source": [
        "###\n",
        "loss, accuracy = mymodelarch2.evaluate(X_train, y_train, verbose=False)\n",
        "print(\"Training Accuracy: {:.4f}\".format(accuracy))\n",
        "loss, accuracy = mymodelarch2.evaluate(X_test, y_test, verbose=False)\n",
        "print(\"Testing Accuracy:  {:.4f}\".format(accuracy))\n",
        "\n",
        "###\n",
        "acc = history.history['acc']\n",
        "val_acc = history.history['val_acc']\n",
        "loss = history.history['loss']\n",
        "val_loss = history.history['val_loss']\n",
        "x = range(1, len(acc) + 1)\n",
        "\n",
        "plt.figure(figsize=(12, 5))\n",
        "plt.subplot(1, 2, 1)\n",
        "plt.plot(x, acc, 'b', label='Training acc')\n",
        "plt.plot(x, val_acc, 'r', label='Validation acc')\n",
        "plt.title('Training and validation accuracy')\n",
        "plt.legend()\n",
        "plt.subplot(1, 2, 2)\n",
        "plt.plot(x, loss, 'b', label='Training loss')\n",
        "plt.plot(x, val_loss, 'r', label='Validation loss')\n",
        "plt.title('Training and validation loss')\n",
        "plt.legend()"
      ],
      "execution_count": null,
      "outputs": [
        {
          "output_type": "stream",
          "text": [
            "Training Accuracy: 0.9411\n",
            "Testing Accuracy:  0.8783\n"
          ],
          "name": "stdout"
        },
        {
          "output_type": "execute_result",
          "data": {
            "text/plain": [
              "<matplotlib.legend.Legend at 0x7ff3975c72e8>"
            ]
          },
          "metadata": {
            "tags": []
          },
          "execution_count": 40
        },
        {
          "output_type": "display_data",
          "data": {
            "image/png": "[encoded data removed]",
            "text/plain": [
              "<Figure size 864x360 with 2 Axes>"
            ]
          },
          "metadata": {
            "tags": []
          }
        }
      ]
    },
    {
      "cell_type": "markdown",
      "metadata": {
        "id": "zMFfby9RA9KO",
        "colab_type": "text"
      },
      "source": [
        "# CONVNETS WITH EMBEDDED PRETRAINED MATRIX (GLOVE)"
      ]
    },
    {
      "cell_type": "code",
      "metadata": {
        "id": "2dTmsG18EpB6",
        "colab_type": "code",
        "colab": {
          "base_uri": "https://localhost:8080/",
          "height": 331
        },
        "outputId": "b0245d7a-0bcf-4beb-c7fb-b1a4ebbd89f9"
      },
      "source": [
        "\n",
        "!wget http://nlp.stanford.edu/data/glove.twitter.27B.zip\n",
        "!unzip '/content/glove.twitter.27B.zip' -d '/content/'"
      ],
      "execution_count": null,
      "outputs": [
        {
          "output_type": "stream",
          "text": [
            "--2019-12-03 07:12:11--  http://nlp.stanford.edu/data/glove.twitter.27B.zip\n",
            "Resolving nlp.stanford.edu (nlp.stanford.edu)... 171.64.67.140\n",
            "Connecting to nlp.stanford.edu (nlp.stanford.edu)|171.64.67.140|:80... connected.\n",
            "HTTP request sent, awaiting response... 302 Found\n",
            "Location: https://nlp.stanford.edu/data/glove.twitter.27B.zip [following]\n",
            "--2019-12-03 07:12:11--  https://nlp.stanford.edu/data/glove.twitter.27B.zip\n",
            "Connecting to nlp.stanford.edu (nlp.stanford.edu)|171.64.67.140|:443... connected.\n",
            "HTTP request sent, awaiting response... 301 Moved Permanently\n",
            "Location: http://downloads.cs.stanford.edu/nlp/data/glove.twitter.27B.zip [following]\n",
            "--2019-12-03 07:12:11--  http://downloads.cs.stanford.edu/nlp/data/glove.twitter.27B.zip\n",
            "Resolving downloads.cs.stanford.edu (downloads.cs.stanford.edu)... 171.64.64.22\n",
            "Connecting to downloads.cs.stanford.edu (downloads.cs.stanford.edu)|171.64.64.22|:80... connected.\n",
            "HTTP request sent, awaiting response... 200 OK\n",
            "Length: 1520408563 (1.4G) [application/zip]\n",
            "Saving to: ‘glove.twitter.27B.zip’\n",
            "\n",
            "glove.twitter.27B.z   9%[>                   ] 142.83M  2.00MB/s    eta 7m 14s "
          ],
          "name": "stdout"
        }
      ]
    },
    {
      "cell_type": "code",
      "metadata": {
        "id": "vrBKLsPYBCSW",
        "colab_type": "code",
        "colab": {
          "base_uri": "https://localhost:8080/",
          "height": 70
        },
        "outputId": "284fef08-8ce9-4bd6-9844-6fe25474bc8d"
      },
      "source": [
        "# load the whole embedding into memory\n",
        "\n",
        "embeddings_index = dict()\n",
        "embedding_dims = []\n",
        "\n",
        "#f = open('/content/drive/My Drive/Machine Learning Projects/SENTIMENT ANALYSIS - AMAZON CUSTOMER REVIEWS/SOURCE CODES AND DATASETS/PACKAGE 3 -SOURCE CODES AND FILES/Pretrained Models/Deep Learning Models - With Glove Embedding/glove.6B.100d.txt')\n",
        "\n",
        "embedding_dims = input(print(\"Enter the Embedding Dimensions 100 or 300 :\"))\n",
        "\n",
        "f = open('/content/Glove_Embedding/glove.6B.{}d.txt'.format(embedding_dims))\n",
        "for line in f:\n",
        "  values = line.split()\n",
        "  word = values[0]\n",
        "  coefs = np.asarray(values[1:], dtype='float32')\n",
        "  embeddings_index[word] = coefs\n",
        "f.close()\n",
        "\n",
        "print('Loaded %s word vectors.' % len(embeddings_index))\n",
        "\n",
        "################################################################################\n",
        "\n",
        "# create a weight matrix for words in training docs\n",
        "embedding_matrix = np.zeros((vocab_size, int(embedding_dims)))\n",
        "for word, i in tokenizer.word_index.items():\n",
        "  embedding_vector = embeddings_index.get(word)\n",
        "  if embedding_vector is not None:\n",
        "    embedding_matrix[i] = embedding_vector"
      ],
      "execution_count": null,
      "outputs": [
        {
          "output_type": "stream",
          "text": [
            "Enter the Embedding Dimensions 100 or 300 :\n",
            "None300\n",
            "Loaded 400000 word vectors.\n"
          ],
          "name": "stdout"
        }
      ]
    },
    {
      "cell_type": "code",
      "metadata": {
        "id": "PmJ2EUYECO_B",
        "colab_type": "code",
        "colab": {
          "base_uri": "https://localhost:8080/",
          "height": 976
        },
        "outputId": "b0f17be4-c6df-4f31-aa4a-779c9b170e32"
      },
      "source": [
        "mymodel2 = sepcnn_model_arch2(blocks = 2, filters = 32 , kernel_size = 5 ,embedding_dim = int(embedding_dims) , dropout_rate = 0.5 , pool_size = 2, input_shape = maxlen ,num_classes = 2, num_features = vocab_size,use_pretrained_embedding=True,is_embedding_trainable=False,embedding_matrix=embedding_matrix)\n",
        "mymodel2.summary()"
      ],
      "execution_count": null,
      "outputs": [
        {
          "output_type": "stream",
          "text": [
            "Model: \"sequential_10\"\n",
            "_________________________________________________________________\n",
            "Layer (type)                 Output Shape              Param #   \n",
            "=================================================================\n",
            "embedding_10 (Embedding)     (None, 300, 300)          19864800  \n",
            "_________________________________________________________________\n",
            "dropout_70 (Dropout)         (None, 300, 300)          0         \n",
            "_________________________________________________________________\n",
            "conv1d_80 (Conv1D)           (None, 300, 32)           48032     \n",
            "_________________________________________________________________\n",
            "conv1d_81 (Conv1D)           (None, 300, 32)           5152      \n",
            "_________________________________________________________________\n",
            "max_pooling1d_30 (MaxPooling (None, 150, 32)           0         \n",
            "_________________________________________________________________\n",
            "dropout_71 (Dropout)         (None, 150, 32)           0         \n",
            "_________________________________________________________________\n",
            "conv1d_82 (Conv1D)           (None, 150, 64)           10304     \n",
            "_________________________________________________________________\n",
            "conv1d_83 (Conv1D)           (None, 150, 64)           20544     \n",
            "_________________________________________________________________\n",
            "max_pooling1d_31 (MaxPooling (None, 75, 64)            0         \n",
            "_________________________________________________________________\n",
            "dropout_72 (Dropout)         (None, 75, 64)            0         \n",
            "_________________________________________________________________\n",
            "conv1d_84 (Conv1D)           (None, 75, 96)            30816     \n",
            "_________________________________________________________________\n",
            "conv1d_85 (Conv1D)           (None, 75, 96)            46176     \n",
            "_________________________________________________________________\n",
            "max_pooling1d_32 (MaxPooling (None, 37, 96)            0         \n",
            "_________________________________________________________________\n",
            "dropout_73 (Dropout)         (None, 37, 96)            0         \n",
            "_________________________________________________________________\n",
            "conv1d_86 (Conv1D)           (None, 37, 128)           61568     \n",
            "_________________________________________________________________\n",
            "conv1d_87 (Conv1D)           (None, 37, 128)           82048     \n",
            "_________________________________________________________________\n",
            "global_average_pooling1d_10  (None, 128)               0         \n",
            "_________________________________________________________________\n",
            "dropout_74 (Dropout)         (None, 128)               0         \n",
            "_________________________________________________________________\n",
            "dense_30 (Dense)             (None, 256)               33024     \n",
            "_________________________________________________________________\n",
            "dropout_75 (Dropout)         (None, 256)               0         \n",
            "_________________________________________________________________\n",
            "dense_31 (Dense)             (None, 32)                8224      \n",
            "_________________________________________________________________\n",
            "dropout_76 (Dropout)         (None, 32)                0         \n",
            "_________________________________________________________________\n",
            "dense_32 (Dense)             (None, 1)                 33        \n",
            "=================================================================\n",
            "Total params: 20,210,721\n",
            "Trainable params: 345,921\n",
            "Non-trainable params: 19,864,800\n",
            "_________________________________________________________________\n"
          ],
          "name": "stdout"
        }
      ]
    },
    {
      "cell_type": "code",
      "metadata": {
        "id": "B4oNjjOYCxfw",
        "colab_type": "code",
        "colab": {
          "base_uri": "https://localhost:8080/",
          "height": 1000
        },
        "outputId": "8b7d500a-ea07-4742-98e5-400e124cd96e"
      },
      "source": [
        "%%time\n",
        "mc = ModelCheckpoint('/content/SA_conv_Glovex{}d.h5'.format(embedding_dims), monitor='val_acc', verbose=1, save_best_only=True, mode='max')\n",
        "red_lr= ReduceLROnPlateau(monitor='val_loss',patience=2,verbose=2,factor=0.001,min_delta=0.01)\n",
        "#es = EarlyStopping(monitor='val_loss', patience=4)\n",
        "history = mymodel2.fit(X_train, y_train,epochs=30,verbose=1,validation_data=(X_test, y_test),callbacks=[mc,red_lr])\n",
        "\n",
        "loss, accuracy = mymodel2.evaluate(X_train, y_train, verbose=False)\n",
        "print(\"Training Accuracy: {:.4f}\".format(accuracy))\n",
        "loss, accuracy = mymodel2.evaluate(X_test, y_test, verbose=False)\n",
        "print(\"Testing Accuracy:  {:.4f}\".format(accuracy))"
      ],
      "execution_count": null,
      "outputs": [
        {
          "output_type": "stream",
          "text": [
            "Train on 278770 samples, validate on 119474 samples\n",
            "Epoch 1/30\n",
            "278560/278770 [============================>.] - ETA: 0s - loss: 0.4417 - acc: 0.7963\n",
            "Epoch 00001: val_acc improved from -inf to 0.86314, saving model to /content/SA_conv_Glovex300d.h5\n",
            "278770/278770 [==============================] - 82s 293us/sample - loss: 0.4417 - acc: 0.7964 - val_loss: 0.3391 - val_acc: 0.8631\n",
            "Epoch 2/30\n",
            "278624/278770 [============================>.] - ETA: 0s - loss: 0.3662 - acc: 0.8479\n",
            "Epoch 00002: val_acc improved from 0.86314 to 0.87234, saving model to /content/SA_conv_Glovex300d.h5\n",
            "278770/278770 [==============================] - 75s 268us/sample - loss: 0.3662 - acc: 0.8480 - val_loss: 0.3499 - val_acc: 0.8723\n",
            "Epoch 3/30\n",
            "278752/278770 [============================>.] - ETA: 0s - loss: 0.3523 - acc: 0.8563\n",
            "Epoch 00003: val_acc did not improve from 0.87234\n",
            "\n",
            "Epoch 00003: ReduceLROnPlateau reducing learning rate to 1.0000000474974512e-06.\n",
            "278770/278770 [==============================] - 75s 271us/sample - loss: 0.3523 - acc: 0.8563 - val_loss: 0.3437 - val_acc: 0.8679\n",
            "Epoch 4/30\n",
            "278592/278770 [============================>.] - ETA: 0s - loss: 0.3413 - acc: 0.8615\n",
            "Epoch 00004: val_acc improved from 0.87234 to 0.87361, saving model to /content/SA_conv_Glovex300d.h5\n",
            "278770/278770 [==============================] - 75s 269us/sample - loss: 0.3413 - acc: 0.8615 - val_loss: 0.3255 - val_acc: 0.8736\n",
            "Epoch 5/30\n",
            "278624/278770 [============================>.] - ETA: 0s - loss: 0.3384 - acc: 0.8625\n",
            "Epoch 00005: val_acc improved from 0.87361 to 0.87427, saving model to /content/SA_conv_Glovex300d.h5\n",
            "278770/278770 [==============================] - 75s 268us/sample - loss: 0.3384 - acc: 0.8625 - val_loss: 0.3211 - val_acc: 0.8743\n",
            "Epoch 6/30\n",
            "278720/278770 [============================>.] - ETA: 0s - loss: 0.3381 - acc: 0.8621\n",
            "Epoch 00006: val_acc improved from 0.87427 to 0.87497, saving model to /content/SA_conv_Glovex300d.h5\n",
            "\n",
            "Epoch 00006: ReduceLROnPlateau reducing learning rate to 9.999999974752428e-10.\n",
            "278770/278770 [==============================] - 75s 269us/sample - loss: 0.3381 - acc: 0.8621 - val_loss: 0.3190 - val_acc: 0.8750\n",
            "Epoch 7/30\n",
            "278656/278770 [============================>.] - ETA: 0s - loss: 0.3386 - acc: 0.8622\n",
            "Epoch 00007: val_acc did not improve from 0.87497\n",
            "278770/278770 [==============================] - 75s 268us/sample - loss: 0.3386 - acc: 0.8622 - val_loss: 0.3190 - val_acc: 0.8750\n",
            "Epoch 8/30\n",
            "278688/278770 [============================>.] - ETA: 0s - loss: 0.3372 - acc: 0.8630\n",
            "Epoch 00008: val_acc did not improve from 0.87497\n",
            "\n",
            "Epoch 00008: ReduceLROnPlateau reducing learning rate to 9.999999717180686e-13.\n",
            "278770/278770 [==============================] - 74s 267us/sample - loss: 0.3372 - acc: 0.8629 - val_loss: 0.3190 - val_acc: 0.8750\n",
            "Epoch 9/30\n",
            "278688/278770 [============================>.] - ETA: 0s - loss: 0.3380 - acc: 0.8623\n",
            "Epoch 00009: val_acc did not improve from 0.87497\n",
            "278770/278770 [==============================] - 74s 266us/sample - loss: 0.3380 - acc: 0.8623 - val_loss: 0.3190 - val_acc: 0.8750\n",
            "Epoch 10/30\n",
            "278752/278770 [============================>.] - ETA: 0s - loss: 0.3382 - acc: 0.8629\n",
            "Epoch 00010: val_acc did not improve from 0.87497\n",
            "\n",
            "Epoch 00010: ReduceLROnPlateau reducing learning rate to 9.999999960041971e-16.\n",
            "278770/278770 [==============================] - 74s 265us/sample - loss: 0.3382 - acc: 0.8629 - val_loss: 0.3190 - val_acc: 0.8750\n",
            "Epoch 11/30\n",
            "278592/278770 [============================>.] - ETA: 0s - loss: 0.3370 - acc: 0.8627\n",
            "Epoch 00011: val_acc did not improve from 0.87497\n",
            "278770/278770 [==============================] - 74s 265us/sample - loss: 0.3369 - acc: 0.8627 - val_loss: 0.3190 - val_acc: 0.8750\n",
            "Epoch 12/30\n",
            "278752/278770 [============================>.] - ETA: 0s - loss: 0.3375 - acc: 0.8628\n",
            "Epoch 00012: val_acc did not improve from 0.87497\n",
            "\n",
            "Epoch 00012: ReduceLROnPlateau reducing learning rate to 1.0000000036274937e-18.\n",
            "278770/278770 [==============================] - 75s 268us/sample - loss: 0.3375 - acc: 0.8628 - val_loss: 0.3190 - val_acc: 0.8750\n",
            "Epoch 13/30\n",
            "278592/278770 [============================>.] - ETA: 0s - loss: 0.3376 - acc: 0.8622\n",
            "Epoch 00013: val_acc did not improve from 0.87497\n",
            "278770/278770 [==============================] - 74s 265us/sample - loss: 0.3376 - acc: 0.8622 - val_loss: 0.3190 - val_acc: 0.8750\n",
            "Epoch 14/30\n",
            "278592/278770 [============================>.] - ETA: 0s - loss: 0.3372 - acc: 0.8620\n",
            "Epoch 00014: val_acc did not improve from 0.87497\n",
            "\n",
            "Epoch 00014: ReduceLROnPlateau reducing learning rate to 1.000000045813705e-21.\n",
            "278770/278770 [==============================] - 74s 265us/sample - loss: 0.3372 - acc: 0.8620 - val_loss: 0.3190 - val_acc: 0.8750\n",
            "Epoch 15/30\n",
            "278720/278770 [============================>.] - ETA: 0s - loss: 0.3383 - acc: 0.8614\n",
            "Epoch 00015: val_acc did not improve from 0.87497\n",
            "278770/278770 [==============================] - 74s 267us/sample - loss: 0.3383 - acc: 0.8614 - val_loss: 0.3190 - val_acc: 0.8750\n",
            "Epoch 16/30\n",
            "278752/278770 [============================>.] - ETA: 0s - loss: 0.3392 - acc: 0.8617\n",
            "Epoch 00016: val_acc did not improve from 0.87497\n",
            "\n",
            "Epoch 00016: ReduceLROnPlateau reducing learning rate to 1.0000000692397185e-24.\n",
            "278770/278770 [==============================] - 74s 266us/sample - loss: 0.3392 - acc: 0.8617 - val_loss: 0.3190 - val_acc: 0.8750\n",
            "Epoch 17/30\n",
            "278688/278770 [============================>.] - ETA: 0s - loss: 0.3377 - acc: 0.8616\n",
            "Epoch 00017: val_acc did not improve from 0.87497\n",
            "278770/278770 [==============================] - 74s 266us/sample - loss: 0.3377 - acc: 0.8616 - val_loss: 0.3190 - val_acc: 0.8750\n",
            "Epoch 18/30\n",
            "278752/278770 [============================>.] - ETA: 0s - loss: 0.3383 - acc: 0.8619\n",
            "Epoch 00018: val_acc did not improve from 0.87497\n",
            "\n",
            "Epoch 00018: ReduceLROnPlateau reducing learning rate to 1.0000001181490945e-27.\n",
            "278770/278770 [==============================] - 74s 264us/sample - loss: 0.3383 - acc: 0.8619 - val_loss: 0.3190 - val_acc: 0.8750\n",
            "Epoch 19/30\n",
            "278624/278770 [============================>.] - ETA: 0s - loss: 0.3394 - acc: 0.8621\n",
            "Epoch 00019: val_acc did not improve from 0.87497\n",
            "278770/278770 [==============================] - 74s 264us/sample - loss: 0.3394 - acc: 0.8621 - val_loss: 0.3190 - val_acc: 0.8750\n",
            "Epoch 20/30\n",
            "278688/278770 [============================>.] - ETA: 0s - loss: 0.3382 - acc: 0.8617\n",
            "Epoch 00020: val_acc did not improve from 0.87497\n",
            "\n",
            "Epoch 00020: ReduceLROnPlateau reducing learning rate to 1.0000001235416983e-30.\n",
            "278770/278770 [==============================] - 75s 267us/sample - loss: 0.3382 - acc: 0.8617 - val_loss: 0.3190 - val_acc: 0.8750\n",
            "Epoch 21/30\n",
            "278592/278770 [============================>.] - ETA: 0s - loss: 0.3372 - acc: 0.8625\n",
            "Epoch 00021: val_acc did not improve from 0.87497\n",
            "278770/278770 [==============================] - 74s 264us/sample - loss: 0.3372 - acc: 0.8624 - val_loss: 0.3190 - val_acc: 0.8750\n",
            "Epoch 22/30\n",
            "278560/278770 [============================>.] - ETA: 0s - loss: 0.3380 - acc: 0.8627\n",
            "Epoch 00022: val_acc did not improve from 0.87497\n",
            "\n",
            "Epoch 00022: ReduceLROnPlateau reducing learning rate to 1.000000097210625e-33.\n",
            "278770/278770 [==============================] - 74s 264us/sample - loss: 0.3379 - acc: 0.8628 - val_loss: 0.3190 - val_acc: 0.8750\n",
            "Epoch 23/30\n",
            "278688/278770 [============================>.] - ETA: 0s - loss: 0.3380 - acc: 0.8628\n",
            "Epoch 00023: val_acc did not improve from 0.87497\n",
            "278770/278770 [==============================] - 74s 265us/sample - loss: 0.3380 - acc: 0.8628 - val_loss: 0.3190 - val_acc: 0.8750\n",
            "Epoch 24/30\n",
            "278720/278770 [============================>.] - ETA: 0s - loss: 0.3380 - acc: 0.8620\n",
            "Epoch 00024: val_acc did not improve from 0.87497\n",
            "\n",
            "Epoch 00024: ReduceLROnPlateau reducing learning rate to 1.0000001155777242e-36.\n",
            "278770/278770 [==============================] - 73s 263us/sample - loss: 0.3380 - acc: 0.8620 - val_loss: 0.3190 - val_acc: 0.8750\n",
            "Epoch 25/30\n",
            "278688/278770 [============================>.] - ETA: 0s - loss: 0.3395 - acc: 0.8622\n",
            "Epoch 00025: val_acc did not improve from 0.87497\n",
            "278770/278770 [==============================] - 74s 266us/sample - loss: 0.3395 - acc: 0.8623 - val_loss: 0.3190 - val_acc: 0.8750\n",
            "Epoch 26/30\n",
            "278656/278770 [============================>.] - ETA: 0s - loss: 0.3390 - acc: 0.8615\n",
            "Epoch 00026: val_acc did not improve from 0.87497\n",
            "\n",
            "Epoch 00026: ReduceLROnPlateau reducing learning rate to 1.0000001256222315e-39.\n",
            "278770/278770 [==============================] - 74s 264us/sample - loss: 0.3390 - acc: 0.8615 - val_loss: 0.3190 - val_acc: 0.8750\n",
            "Epoch 27/30\n",
            "278592/278770 [============================>.] - ETA: 0s - loss: 0.3382 - acc: 0.8619\n",
            "Epoch 00027: val_acc did not improve from 0.87497\n",
            "278770/278770 [==============================] - 74s 264us/sample - loss: 0.3382 - acc: 0.8620 - val_loss: 0.3190 - val_acc: 0.8750\n",
            "Epoch 28/30\n",
            "278592/278770 [============================>.] - ETA: 0s - loss: 0.3371 - acc: 0.8626\n",
            "Epoch 00028: val_acc did not improve from 0.87497\n",
            "\n",
            "Epoch 00028: ReduceLROnPlateau reducing learning rate to 1.0000002153053333e-42.\n",
            "278770/278770 [==============================] - 74s 265us/sample - loss: 0.3372 - acc: 0.8625 - val_loss: 0.3190 - val_acc: 0.8750\n",
            "Epoch 29/30\n",
            "278592/278770 [============================>.] - ETA: 0s - loss: 0.3380 - acc: 0.8621\n",
            "Epoch 00029: val_acc did not improve from 0.87497\n",
            "278770/278770 [==============================] - 74s 266us/sample - loss: 0.3379 - acc: 0.8621 - val_loss: 0.3190 - val_acc: 0.8750\n",
            "Epoch 30/30\n",
            "278720/278770 [============================>.] - ETA: 0s - loss: 0.3377 - acc: 0.8623\n",
            "Epoch 00030: val_acc did not improve from 0.87497\n",
            "\n",
            "Epoch 00030: ReduceLROnPlateau reducing learning rate to 1.0005271035279193e-45.\n",
            "278770/278770 [==============================] - 74s 264us/sample - loss: 0.3377 - acc: 0.8623 - val_loss: 0.3190 - val_acc: 0.8750\n",
            "Training Accuracy: 0.8792\n",
            "Testing Accuracy:  0.8750\n",
            "CPU times: user 40min 57s, sys: 2min 37s, total: 43min 35s\n",
            "Wall time: 37min 50s\n"
          ],
          "name": "stdout"
        }
      ]
    },
    {
      "cell_type": "code",
      "metadata": {
        "id": "ocnZdlZSC49Y",
        "colab_type": "code",
        "colab": {
          "base_uri": "https://localhost:8080/",
          "height": 372
        },
        "outputId": "bdb6334c-0ee5-4f4c-86da-99a372d44e82"
      },
      "source": [
        "# print('Validation accuracy: {acc}, loss: {loss}'.format(acc=history['val_acc'][-1], loss=history['val_loss'][-1]))\n",
        "acc = history.history['acc']\n",
        "val_acc = history.history['val_acc']\n",
        "loss = history.history['loss']\n",
        "val_loss = history.history['val_loss']\n",
        "x = range(1, len(acc) + 1)\n",
        "print(\"X\",x)\n",
        "\n",
        "plt.figure(figsize=(12, 5))\n",
        "plt.subplot(1, 2, 1)\n",
        "plt.plot(x, acc, 'b', label='Training acc')\n",
        "plt.plot(x, val_acc, 'r', label='Validation acc')\n",
        "plt.title('Training and validation accuracy')\n",
        "plt.legend()\n",
        "plt.subplot(1, 2, 2)\n",
        "plt.plot(x, loss, 'b', label='Training loss')\n",
        "plt.plot(x, val_loss, 'r', label='Validation loss')\n",
        "plt.title('Training and validation loss')\n",
        "plt.legend()"
      ],
      "execution_count": null,
      "outputs": [
        {
          "output_type": "stream",
          "text": [
            "X range(1, 31)\n"
          ],
          "name": "stdout"
        },
        {
          "output_type": "execute_result",
          "data": {
            "text/plain": [
              "<matplotlib.legend.Legend at 0x7ff395a33710>"
            ]
          },
          "metadata": {
            "tags": []
          },
          "execution_count": 80
        },
        {
          "output_type": "display_data",
          "data": {
            "image/png": "[encoded data removed]",
            "text/plain": [
              "<Figure size 864x360 with 2 Axes>"
            ]
          },
          "metadata": {
            "tags": []
          }
        }
      ]
    },
    {
      "cell_type": "markdown",
      "metadata": {
        "id": "v0ml3-WYbibu",
        "colab_type": "text"
      },
      "source": [
        "# Full edit do not touch "
      ]
    },
    {
      "cell_type": "code",
      "metadata": {
        "id": "2yLoEzihbhPb",
        "colab_type": "code",
        "colab": {}
      },
      "source": [
        "from tensorflow.python.keras import models\n",
        "from tensorflow.python.keras import initializers\n",
        "from tensorflow.python.keras import regularizers\n",
        "from tensorflow.python.keras.callbacks import *\n",
        "from tensorflow.python.keras.layers import Dense\n",
        "from tensorflow.python.keras.layers import Dropout\n",
        "from tensorflow.python.keras.layers import Embedding\n",
        "from tensorflow.python.keras.layers import Conv1D, SeparableConv1D\n",
        "from tensorflow.python.keras.layers import MaxPooling1D\n",
        "from tensorflow.python.keras.layers import GlobalAveragePooling1D\n",
        "import tensorflow as tf\n",
        "\n",
        "def sepcnn_model_arch(blocks,filters,kernel_size,embedding_dim,dropout_rate,pool_size,input_shape,num_classes,num_features,\n",
        "                 use_pretrained_embedding=False,\n",
        "                 is_embedding_trainable=False,\n",
        "                 embedding_matrix=None):\n",
        "\n",
        "    op_units, op_activation = _get_last_layer_units_and_activation(num_classes)\n",
        "    model = models.Sequential()\n",
        "\n",
        "    # Add embedding layer. If pre-trained embedding is used add weights to the\n",
        "    # embeddings layer and set trainable to input is_embedding_trainable flag.\n",
        "    if use_pretrained_embedding:\n",
        "        model.add(Embedding(input_dim=num_features,\n",
        "                            output_dim=embedding_dim,\n",
        "                            input_length=input_shape,\n",
        "                            weights=[embedding_matrix],\n",
        "                            trainable=is_embedding_trainable))\n",
        "    else:\n",
        "        model.add(Embedding(input_dim=num_features,\n",
        "                            output_dim=embedding_dim,\n",
        "                            input_length=input_shape))\n",
        "\n",
        "    for _ in range(blocks-1):\n",
        "        model.add(Dropout(rate=dropout_rate))\n",
        "        model.add(Conv1D(filters=filters,                                 \n",
        "                                  kernel_size=kernel_size,\n",
        "                                  activation='relu',\n",
        "                                  bias_initializer='random_uniform',\n",
        "                                  #depthwise_initializer='random_uniform',\n",
        "                                  padding='same'))\n",
        "        model.add(Conv1D(filters=filters,\n",
        "                                  kernel_size=kernel_size,\n",
        "                                  activation='relu',\n",
        "                                  bias_initializer='random_uniform',\n",
        "                                  #depthwise_initializer='random_uniform',\n",
        "                                  padding='same'))\n",
        "        model.add(MaxPooling1D(pool_size=pool_size))\n",
        "        model.add(Dropout(rate=dropout_rate)) #\n",
        "        \n",
        "        #######################################################################\n",
        "\n",
        "        model.add(Conv1D(filters=filters * 2,                                   \n",
        "                                  kernel_size=kernel_size,\n",
        "                                  activation='relu',\n",
        "                                  bias_initializer='random_uniform',\n",
        "                                  padding='same'))\n",
        "        \n",
        "        model.add(Conv1D(filters=filters * 2,\n",
        "                                  kernel_size=kernel_size,\n",
        "                                  activation='relu',\n",
        "                                  bias_initializer='random_uniform',\n",
        "                                  padding='same'))\n",
        "        model.add(MaxPooling1D(pool_size=pool_size))\n",
        "        model.add(Dropout(rate=dropout_rate)) \n",
        "\n",
        "        ########################################################################\n",
        "\n",
        "        model.add(Conv1D(filters=filters * 3,                                   \n",
        "                                  kernel_size=kernel_size,\n",
        "                                  activation='relu',\n",
        "                                  bias_initializer='random_uniform',\n",
        "                                  padding='same'))\n",
        "        model.add(Conv1D(filters=filters * 3,\n",
        "                                  kernel_size=kernel_size,\n",
        "                                  activation='relu',\n",
        "                                  bias_initializer='random_uniform',\n",
        "                                  padding='same'))\n",
        "        model.add(MaxPooling1D(pool_size=pool_size))\n",
        "        model.add(Dropout(rate=dropout_rate)) \n",
        "\n",
        "        ########################################################################\n",
        "\n",
        "\n",
        "    model.add(Conv1D(filters= filters*4,\n",
        "                              kernel_size=kernel_size,\n",
        "                              activation='relu',\n",
        "                              bias_initializer='random_uniform',\n",
        "                              padding='same'))\n",
        "    \n",
        "    model.add(Conv1D(filters=filters*4,\n",
        "                              kernel_size=kernel_size,\n",
        "                              activation='relu',\n",
        "                              bias_initializer='random_uniform',\n",
        "                              padding='same'))  \n",
        "    \n",
        "    model.add(GlobalAveragePooling1D())\n",
        "    model.add(Dropout(rate=dropout_rate))\n",
        "    model.add(Dense(256, activation=\"relu\")) # 256 -> 512\n",
        "    model.add(Dropout(rate=dropout_rate))\n",
        "    model.add(Dense(32, activation=\"relu\"))\n",
        "    model.add(Dropout(rate=dropout_rate))\n",
        "    model.add(Dense(op_units, activation=op_activation))\n",
        "    \n",
        "    if num_classes == 2:\n",
        "        loss = 'binary_crossentropy'\n",
        "    else:\n",
        "        loss = 'sparse_categorical_crossentropy'\n",
        "    optimizer = tf.keras.optimizers.Adam() # lr=1e-3\n",
        "    model.compile(optimizer=optimizer, loss=loss, metrics=['acc'])\n",
        "    tf.keras.utils.plot_model(model,to_file='/content/model2.png',show_shapes=True,show_layer_names=True,rankdir='TB',expand_nested=False,dpi=96)\n",
        "    return model"
      ],
      "execution_count": null,
      "outputs": []
    },
    {
      "cell_type": "markdown",
      "metadata": {
        "id": "wW2tIronXDfK",
        "colab_type": "text"
      },
      "source": [
        "# Model trained for different kernel_size and their corresponding Accuracy rates\n",
        "\n",
        "Kernel_size = 1 \n",
        "1. Training Accuracy: 0.77 for kernel size of 1\n",
        "2. Testing Accuracy:  0.76 for kernel size of 1\n",
        "\n",
        "Kernel_size = 2\n",
        "1. Training Accuracy: 0.79 for kernel size of 2\n",
        "2. Testing Accuracy:  0.78 for kernel size of 2\n",
        "\n",
        "Kernel_size = 3\n",
        "1. Training Accuracy: 0.80 for kernel size of 3\n",
        "2. Testing Accuracy:  0.78 for kernel size of 3\n",
        "\n",
        "Kernel_size = 4\n",
        "1. Training Accuracy: 0.81 for kernel size of 4\n",
        "2. Testing Accuracy:  0.78 for kernel size of 4\n",
        "\n",
        "Kernel_size = 5\n",
        "1. Training Accuracy: 0.81 for kernel size of 5\n",
        "2. Testing Accuracy:  0.78 for kernel size of 5\n",
        "\n",
        "\n",
        "Kernel_size = 6\n",
        "1. Training Accuracy: 0.50 for kernel size of 6\n",
        "2. Testing Accuracy:  0.50 for kernel size of 6"
      ]
    },
    {
      "cell_type": "code",
      "metadata": {
        "id": "1cA-30bU8iZc",
        "colab_type": "code",
        "colab": {}
      },
      "source": [
        "\n"
      ],
      "execution_count": null,
      "outputs": []
    }
  ]
}